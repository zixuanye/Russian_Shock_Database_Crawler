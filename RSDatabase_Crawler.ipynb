{
 "cells": [
  {
   "cell_type": "code",
   "execution_count": 11,
   "metadata": {},
   "outputs": [],
   "source": [
    "import urllib\n",
    "import urllib.request   \n",
    "from bs4 import BeautifulSoup, Comment\n",
    "import pandas as pd\n",
    "import numpy as np\n",
    "from pandas import Series, DataFrame\n"
   ]
  },
  {
   "cell_type": "code",
   "execution_count": 6,
   "metadata": {},
   "outputs": [],
   "source": [
    "plain_text=[]\n",
    "for  i in range(1,200):\n",
    "    url = 'http://www.ihed.ras.ru/rusbank/plaintext.php?substid='+str(i)+'&type=0'\n",
    "    hds = {'user-agent':'Mozilla/5.0'}\n",
    "    request = urllib.request.Request(url,headers=hds)\n",
    "    response = urllib.request.urlopen(request).read()\n",
    "    plain_text.append(str(response))\n"
   ]
  },
  {
   "cell_type": "code",
   "execution_count": 7,
   "metadata": {},
   "outputs": [],
   "source": [
    "df={}\n",
    "for table in plain_text:\n",
    "    li=table.split(\"\\\\n\")\n",
    "    value=[]\n",
    "    material=li[1]\n",
    "    for k in li:\n",
    "        if k==li[0] or k==li[1] or k==li[2] or k==li[3]:\n",
    "            continue\n",
    "        y=k.split()\n",
    "        if y[0]==\"References:\":\n",
    "            break\n",
    "        value.append(y)\n",
    "        df[material]= DataFrame(value)\n"
   ]
  },
  {
   "cell_type": "code",
   "execution_count": 8,
   "metadata": {},
   "outputs": [],
   "source": [
    "for key in df:\n",
    "    if df[key].shape[1]==9:\n",
    "         df[key].columns=['m','Up','Us','Pressure','R/R0_ratio','density','E-E0','Rem','Reference']\n",
    "    elif df[key].shape[1]==8:\n",
    "        df[key].columns=['m','Up','Us','Pressure','R/R0_ratio','density','E-E0','Reference']\n",
    "        "
   ]
  },
  {
   "cell_type": "code",
   "execution_count": 12,
   "metadata": {},
   "outputs": [],
   "source": [
    "dataset = []\n",
    "for key in df:\n",
    "    x = np.array(df[key]['Up'].astype('float64'))\n",
    "    y = np.array(df[key]['Us'].astype('float64'))    \n",
    "    foo = np.polyfit(x, y, 1)\n",
    "    head=key.split()\n",
    "    foo = np.array(foo) * float(head[-2])\n",
    "#     foo = df[key].apply(lambda x: np.polyfit(x['Us'],x['Up'],1), axis=1)\n",
    "    dataset.append(foo.tolist())\n"
   ]
  },
  {
   "cell_type": "code",
   "execution_count": 13,
   "metadata": {},
   "outputs": [],
   "source": [
    "import math\n",
    "import matplotlib.pyplot as plt\n",
    "import random\n",
    "import numpy as np\n",
    " \n",
    "def getEuclidean(point1, point2):\n",
    "    dimension = len(point1)\n",
    "    dist = 0.0\n",
    "    for i in range(dimension):\n",
    "        dist += (point1[i] - point2[i]) ** 2\n",
    "    return math.sqrt(dist)\n",
    "\n",
    "def k_means(dataset, k, iteration):\n",
    "    #initialize centers\n",
    "    index = random.sample(list(range(len(dataset))), k)\n",
    "    vectors = []\n",
    "    for i in index:\n",
    "        vectors.append(dataset[i])\n",
    "    #initialize labels\n",
    "    labels = []\n",
    "    for i in range(len(dataset)):\n",
    "        labels.append(-1)\n",
    "    #iteration kmeans\n",
    "    while(iteration > 0):\n",
    "        #initialize group\n",
    "        C = []\n",
    "        for i in range(k):\n",
    "            C.append([])\n",
    "        for labelIndex, item in enumerate(dataset):\n",
    "            classIndex = -1\n",
    "            minDist = 1e6\n",
    "            for i, point in enumerate(vectors):\n",
    "                dist = getEuclidean(item, point)\n",
    "                if(dist < minDist):\n",
    "                    classIndex = i\n",
    "                    minDist = dist\n",
    "            C[classIndex].append(item)\n",
    "            labels[labelIndex] = classIndex\n",
    "        for i, cluster in enumerate(C):\n",
    "            clusterHeart = []\n",
    "            dimension = len(dataset[0])\n",
    "            for j in range(dimension):\n",
    "                clusterHeart.append(0)\n",
    "            for item in cluster:\n",
    "                for j, coordinate in enumerate(item):\n",
    "                    clusterHeart[j] += coordinate / len(cluster)\n",
    "            vectors[i] = clusterHeart\n",
    "        iteration -= 1\n",
    "    return C, labels"
   ]
  },
  {
   "cell_type": "code",
   "execution_count": 17,
   "metadata": {},
   "outputs": [],
   "source": [
    "C, labels = k_means(dataset, 5, 10)"
   ]
  },
  {
   "cell_type": "code",
   "execution_count": 18,
   "metadata": {},
   "outputs": [
    {
     "data": {
      "image/png": "[encoded data removed]",
      "text/plain": [
       "<Figure size 432x288 with 1 Axes>"
      ]
     },
     "metadata": {
      "needs_background": "light"
     },
     "output_type": "display_data"
    }
   ],
   "source": [
    "colValue = ['r', 'y', 'g', 'b', 'c', 'k', 'm']\n",
    "for i in range(len(C)):\n",
    "    coo_X = []    \n",
    "    coo_Y = []    \n",
    "    for j in range(len(C[i])):\n",
    "        coo_X.append(C[i][j][0])\n",
    "        coo_Y.append(C[i][j][1])\n",
    "    plt.scatter(coo_X, coo_Y, marker='x', color=colValue[i%len(colValue)], label=i)\n",
    " \n",
    "# plt.legend(loc='upper right')\n",
    "plt.show()\n",
    "# print(labels)\n"
   ]
  }
 ],
 "metadata": {
  "kernelspec": {
   "display_name": "Python 3",
   "language": "python",
   "name": "python3"
  },
  "language_info": {
   "codemirror_mode": {
    "name": "ipython",
    "version": 3
   },
   "file_extension": ".py",
   "mimetype": "text/x-python",
   "name": "python",
   "nbconvert_exporter": "python",
   "pygments_lexer": "ipython3",
   "version": "3.7.3"
  }
 },
 "nbformat": 4,
 "nbformat_minor": 4
}
